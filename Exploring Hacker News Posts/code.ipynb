{
 "cells": [
  {
   "cell_type": "code",
   "execution_count": 8,
   "metadata": {},
   "outputs": [],
   "source": [
    "from csv import reader"
   ]
  },
  {
   "cell_type": "code",
   "execution_count": 11,
   "metadata": {},
   "outputs": [],
   "source": [
    "#importing and reading csv file\n",
    "\n",
    "opended_file = open('hacker_news.csv')\n",
    "read_file = reader(opended_file)"
   ]
  },
  {
   "cell_type": "code",
   "execution_count": 12,
   "metadata": {},
   "outputs": [
    {
     "name": "stdout",
     "output_type": "stream",
     "text": [
      "['id', 'title', 'url', 'num_points', 'num_comments', 'author', 'created_at']\n"
     ]
    }
   ],
   "source": [
    "#lisitng all data\n",
    "\n",
    "hn = list(read_file)\n",
    "\n",
    "#separating header row from rest of the data\n",
    "head = hn[0]\n",
    "print(head) #printing header row\n",
    "\n",
    "hn = hn[1:] #assigning all hacker news data excluding header in the hn variable"
   ]
  },
  {
   "cell_type": "code",
   "execution_count": null,
   "metadata": {},
   "outputs": [],
   "source": []
  }
 ],
 "metadata": {
  "interpreter": {
   "hash": "9531ff7e72dc392c76eb38a381f0417e91b08d6f4396392e245b8566b516d0d1"
  },
  "kernelspec": {
   "display_name": "Python 3.10.0 64-bit ('am13Python': conda)",
   "language": "python",
   "name": "python3"
  },
  "language_info": {
   "codemirror_mode": {
    "name": "ipython",
    "version": 3
   },
   "file_extension": ".py",
   "mimetype": "text/x-python",
   "name": "python",
   "nbconvert_exporter": "python",
   "pygments_lexer": "ipython3",
   "version": "3.10.0"
  },
  "orig_nbformat": 4
 },
 "nbformat": 4,
 "nbformat_minor": 2
}
