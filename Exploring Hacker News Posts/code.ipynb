{
 "cells": [
  {
   "cell_type": "code",
   "execution_count": 25,
   "metadata": {},
   "outputs": [],
   "source": [
    "from csv import reader"
   ]
  },
  {
   "cell_type": "code",
   "execution_count": 26,
   "metadata": {},
   "outputs": [],
   "source": [
    "#importing and reading csv file\n",
    "\n",
    "opended_file = open('hacker_news.csv')\n",
    "read_file = reader(opended_file)"
   ]
  },
  {
   "cell_type": "code",
   "execution_count": 27,
   "metadata": {},
   "outputs": [],
   "source": [
    "#lisitng all data\n",
    "\n",
    "hn = list(read_file)\n",
    "\n",
    "#separating header row from rest of the data\n",
    "head = hn[0]\n",
    "\n",
    "hn = hn[1:] #assigning all hacker news data excluding header in the hn variable"
   ]
  },
  {
   "cell_type": "code",
   "execution_count": 28,
   "metadata": {},
   "outputs": [],
   "source": [
    "#expolore function explores a given dataset within a range\n",
    "\n",
    "# Define a function to extract a slice of a given dataset for analysis\n",
    "def explore(dataset, start, end, rows_and_columns=False):\n",
    "    dataset_slice = dataset[start:end]\n",
    "    for row in dataset_slice:\n",
    "        print(row)\n",
    "        print('\\n')\n",
    "    \n",
    "    if rows_and_columns:\n",
    "        print('Number of rows:', len(dataset))\n",
    "        print('Number of columns:', len(dataset[0]))"
   ]
  },
  {
   "cell_type": "code",
   "execution_count": 29,
   "metadata": {},
   "outputs": [
    {
     "name": "stdout",
     "output_type": "stream",
     "text": [
      "['id', 'title', 'url', 'num_points', 'num_comments', 'author', 'created_at']\n",
      "\n",
      "\n",
      "['12224879', 'Interactive Dynamic Video', 'http://www.interactivedynamicvideo.com/', '386', '52', 'ne0phyte', '8/4/2016 11:52']\n",
      "\n",
      "\n",
      "['10975351', 'How to Use Open Source and Shut the Fuck Up at the Same Time', 'http://hueniverse.com/2016/01/26/how-to-use-open-source-and-shut-the-fuck-up-at-the-same-time/', '39', '10', 'josep2', '1/26/2016 19:30']\n",
      "\n",
      "\n",
      "['11964716', \"Florida DJs May Face Felony for April Fools' Water Joke\", 'http://www.thewire.com/entertainment/2013/04/florida-djs-april-fools-water-joke/63798/', '2', '1', 'vezycash', '6/23/2016 22:20']\n",
      "\n",
      "\n",
      "['11919867', 'Technology ventures: From Idea to Enterprise', 'https://www.amazon.com/Technology-Ventures-Enterprise-Thomas-Byers/dp/0073523429', '3', '1', 'hswarna', '6/17/2016 0:01']\n",
      "\n",
      "\n",
      "['10301696', 'Note by Note: The Making of Steinway L1037 (2007)', 'http://www.nytimes.com/2007/11/07/movies/07stein.html?_r=0', '8', '2', 'walterbell', '9/30/2015 4:12']\n",
      "\n",
      "\n",
      "Number of rows: 20100\n",
      "Number of columns: 7\n"
     ]
    }
   ],
   "source": [
    "print(head) #printing header row\n",
    "print('\\n')\n",
    "explore(hn, 0, 5, True) #exploring hacker news dataset from the range 0 to 5\n"
   ]
  },
  {
   "cell_type": "markdown",
   "metadata": {},
   "source": [
    "## Cleansing Data"
   ]
  },
  {
   "cell_type": "code",
   "execution_count": 30,
   "metadata": {},
   "outputs": [
    {
     "name": "stdout",
     "output_type": "stream",
     "text": [
      "column shift errors:  0\n"
     ]
    }
   ],
   "source": [
    "def check_column_shifts(header, dataset):\n",
    "\ttotalErrors = 0\n",
    "\tfor row in dataset:\n",
    "\t\tif len(header) != len(row):\n",
    "\t\t\ttotalErrors+=1\n",
    "\t\t\tprint('headers: ', header, '\\n')\n",
    "\t\t\tprint('row: ', row, '\\n')\n",
    "\t\t\tprint('row index: ', dataset.index(row), '\\n')\n",
    "\n",
    "\tprint('column shift errors: ', totalErrors)\n",
    "\n",
    "check_column_shifts(head, hn)"
   ]
  },
  {
   "cell_type": "code",
   "execution_count": 47,
   "metadata": {},
   "outputs": [
    {
     "name": "stdout",
     "output_type": "stream",
     "text": [
      "\n",
      "\n",
      "['id', 'title', 'url', 'num_points', 'num_comments', 'author', 'created_at']\n",
      "\n",
      "\n",
      "total null values for comments:  0\n"
     ]
    }
   ],
   "source": [
    "def check_for_null_values_at_an_index(header, dataset, index, indexName):\n",
    "\ttotal_null_values = 0\n",
    "\t\n",
    "\tprint('\\n')\n",
    "\tprint(header)\n",
    "\tfor row in dataset:\n",
    "\t\tnull_values_found = False\n",
    "\t\tif not (row[index]):\n",
    "\t\t\ttotal_null_values += 1\n",
    "\t\t\tnull_values_found = True\n",
    "\t\tif(null_values_found):\n",
    "\t\t\tprint('\\n')\n",
    "\t\t\tprint(row)\n",
    "\n",
    "\tprint('\\n')\n",
    "\tprint('total null values for '+indexName+': ', total_null_values)\n",
    "\t\t\t\n",
    "#check null values for comments in the data\t\t\t\t\n",
    "check_for_null_values_at_an_index(head,hn,4,'comments')"
   ]
  },
  {
   "cell_type": "markdown",
   "metadata": {},
   "source": [
    "### Seperating data by post titles"
   ]
  },
  {
   "cell_type": "code",
   "execution_count": 48,
   "metadata": {},
   "outputs": [
    {
     "name": "stdout",
     "output_type": "stream",
     "text": [
      "total ask posts:  1744\n",
      "[['12296411', 'Ask HN: How to improve my personal website?', '', '2', '6', 'ahmedbaracat', '8/16/2016 9:55'], ['10610020', 'Ask HN: Am I the only one outraged by Twitter shutting down share counts?', '', '28', '29', 'tkfx', '11/22/2015 13:43'], ['11610310', 'Ask HN: Aby recent changes to CSS that broke mobile?', '', '1', '1', 'polskibus', '5/2/2016 10:14']]\n",
      "\n",
      "\n",
      "total show posts:  1162\n",
      "[['10627194', 'Show HN: Wio Link  ESP8266 Based Web of Things Hardware Development Platform', 'https://iot.seeed.cc', '26', '22', 'kfihihc', '11/25/2015 14:03'], ['10646440', 'Show HN: Something pointless I made', 'http://dn.ht/picklecat/', '747', '102', 'dhotson', '11/29/2015 22:46'], ['11590768', 'Show HN: Shanhu.io, a programming playground powered by e8vm', 'https://shanhu.io', '1', '1', 'h8liu', '4/28/2016 18:05']]\n",
      "\n",
      "\n",
      "total other posts:  17194\n",
      "[['12224879', 'Interactive Dynamic Video', 'http://www.interactivedynamicvideo.com/', '386', '52', 'ne0phyte', '8/4/2016 11:52'], ['10975351', 'How to Use Open Source and Shut the Fuck Up at the Same Time', 'http://hueniverse.com/2016/01/26/how-to-use-open-source-and-shut-the-fuck-up-at-the-same-time/', '39', '10', 'josep2', '1/26/2016 19:30'], ['11964716', \"Florida DJs May Face Felony for April Fools' Water Joke\", 'http://www.thewire.com/entertainment/2013/04/florida-djs-april-fools-water-joke/63798/', '2', '1', 'vezycash', '6/23/2016 22:20']]\n",
      "\n",
      "\n"
     ]
    }
   ],
   "source": [
    "ask_posts = []\n",
    "show_posts = []\n",
    "other_posts = []\n",
    "\n",
    "for row in hn:\n",
    "    title = row[1]\n",
    "    if(title.lower().startswith('ask hn')):\n",
    "        ask_posts.append(row)\n",
    "    elif(title.lower().startswith('show hn')):\n",
    "        show_posts.append(row)\n",
    "    else:\n",
    "        other_posts.append(row)\n",
    "\n",
    "\n",
    "print('total ask posts: ',len(ask_posts)) \n",
    "print(ask_posts[:3])\n",
    "print('\\n')\n",
    "print('total show posts: ',len(show_posts))\n",
    "print(show_posts[:3])\n",
    "print('\\n')\n",
    "print('total other posts: ',len(other_posts)) \n",
    "print(other_posts[:3])\n",
    "print('\\n')"
   ]
  },
  {
   "cell_type": "markdown",
   "metadata": {},
   "source": [
    "### Average Number of Comments\n"
   ]
  },
  {
   "cell_type": "code",
   "execution_count": 49,
   "metadata": {},
   "outputs": [
    {
     "name": "stdout",
     "output_type": "stream",
     "text": [
      "ask post comment avg:  14.038\n",
      "show post comment avg:  10.317\n",
      "other post comment avg:  26.873\n"
     ]
    }
   ],
   "source": [
    "def find_average(data, index, str):\n",
    "\ttotal = 0\n",
    "\tfor row in data:\n",
    "\t\ttotal += int(row[index])\n",
    "\tavg = round(total / len(data), 3)\n",
    "\tprint(str+': ', avg)\n",
    "\treturn avg\n",
    "\n",
    "avg_ask_comments = find_average(ask_posts, 4, 'ask post comment avg')\n",
    "avg_show_comments = find_average(show_posts, 4, 'show post comment avg')\n",
    "avg_other_comments = find_average(other_posts, 4, 'other post comment avg')\n"
   ]
  },
  {
   "cell_type": "markdown",
   "metadata": {},
   "source": [
    "## Analyzing Ask Posts"
   ]
  },
  {
   "cell_type": "markdown",
   "metadata": {},
   "source": [
    "### Analyzing Ask Posts by Hour"
   ]
  },
  {
   "cell_type": "code",
   "execution_count": 50,
   "metadata": {},
   "outputs": [],
   "source": [
    "import datetime as dt"
   ]
  },
  {
   "cell_type": "code",
   "execution_count": 51,
   "metadata": {},
   "outputs": [
    {
     "name": "stdout",
     "output_type": "stream",
     "text": [
      "[['8/16/2016 9:55', 6], ['11/22/2015 13:43', 29], ['5/2/2016 10:14', 1]]\n"
     ]
    }
   ],
   "source": [
    "result_list = []\n",
    "\n",
    "for row in ask_posts:\n",
    "\tpost_creation_time = row[6]\n",
    "\tnum_comments = int(row[4])\n",
    "\tresult_list.append([post_creation_time, num_comments])\n",
    "\n",
    "print(result_list[:3])"
   ]
  },
  {
   "cell_type": "code",
   "execution_count": 78,
   "metadata": {},
   "outputs": [
    {
     "name": "stdout",
     "output_type": "stream",
     "text": [
      "Posts created by hour: {'09': 45, '13': 85, '10': 59, '14': 107, '16': 108, '23': 68, '12': 73, '17': 100, '15': 116, '21': 109, '20': 80, '02': 58, '18': 109, '03': 54, '05': 46, '19': 110, '01': 60, '22': 71, '08': 48, '04': 47, '00': 55, '06': 44, '07': 34, '11': 58}\n",
      "Comments created by hour: {'09': 251, '13': 1253, '10': 793, '14': 1416, '16': 1814, '23': 543, '12': 687, '17': 1146, '15': 4477, '21': 1745, '20': 1722, '02': 1381, '18': 1439, '03': 421, '05': 464, '19': 1188, '01': 683, '22': 479, '08': 492, '04': 337, '00': 447, '06': 397, '07': 267, '11': 641}\n"
     ]
    }
   ],
   "source": [
    "counts_by_hour = {}\n",
    "comments_by_hour = {}\n",
    "\n",
    "for data in result_list:\n",
    "\tdate_data = data[0]\n",
    "\tcomment_data = data[1]\n",
    "\n",
    "\tparsed_date = dt.datetime.strptime(date_data, \"%m/%d/%Y %H:%M\")\n",
    "\thour_created = parsed_date.strftime(\"%H\")\n",
    "\n",
    "\tif hour_created not in counts_by_hour:\n",
    "\t\tcounts_by_hour[hour_created] = 1\n",
    "\telse:\n",
    "\t\tcounts_by_hour[hour_created] += 1\n",
    "\n",
    "\tif hour_created not in comments_by_hour:\n",
    "\t\tcomments_by_hour[hour_created] = comment_data\n",
    "\telse:\n",
    "\t\tcomments_by_hour[hour_created] += comment_data\n",
    "\n",
    "print('Posts created by hour:', counts_by_hour)\n",
    "print('Comments created by hour:', comments_by_hour)"
   ]
  },
  {
   "cell_type": "markdown",
   "metadata": {},
   "source": [
    "### Calculating average number of comments each hour"
   ]
  },
  {
   "cell_type": "code",
   "execution_count": 83,
   "metadata": {},
   "outputs": [
    {
     "name": "stdout",
     "output_type": "stream",
     "text": [
      "[['09', 5.578], ['13', 14.741], ['10', 13.441], ['14', 13.234], ['16', 16.796], ['23', 7.985], ['12', 9.411], ['17', 11.46], ['15', 38.595], ['21', 16.009], ['20', 21.525], ['02', 23.81], ['18', 13.202], ['03', 7.796], ['05', 10.087], ['19', 10.8], ['01', 11.383], ['22', 6.746], ['08', 10.25], ['04', 7.17], ['00', 8.127], ['06', 9.023], ['07', 7.853], ['11', 11.052]]\n"
     ]
    }
   ],
   "source": [
    "avg_by_hour = []\n",
    "\n",
    "for hour in counts_by_hour:\n",
    "\tavg_data = round(comments_by_hour[hour] / counts_by_hour[hour], 3)\n",
    "\tavg_by_hour.append([hour, avg_data])\n",
    "\n",
    "print(avg_by_hour)"
   ]
  },
  {
   "cell_type": "code",
   "execution_count": 85,
   "metadata": {},
   "outputs": [
    {
     "name": "stdout",
     "output_type": "stream",
     "text": [
      "[[5.578, '09'], [14.741, '13'], [13.441, '10'], [13.234, '14'], [16.796, '16'], [7.985, '23'], [9.411, '12'], [11.46, '17'], [38.595, '15'], [16.009, '21'], [21.525, '20'], [23.81, '02'], [13.202, '18'], [7.796, '03'], [10.087, '05'], [10.8, '19'], [11.383, '01'], [6.746, '22'], [10.25, '08'], [7.17, '04'], [8.127, '00'], [9.023, '06'], [7.853, '07'], [11.052, '11']]\n"
     ]
    }
   ],
   "source": [
    "swap_avg_by_hour = []\n",
    "\n",
    "for k,v in avg_by_hour:\n",
    "\tswap_avg_by_hour.append([v, k])\n",
    "\n",
    "print(swap_avg_by_hour)"
   ]
  },
  {
   "cell_type": "code",
   "execution_count": 86,
   "metadata": {},
   "outputs": [
    {
     "name": "stdout",
     "output_type": "stream",
     "text": [
      "[[38.595, '15'], [23.81, '02'], [21.525, '20'], [16.796, '16'], [16.009, '21'], [14.741, '13'], [13.441, '10'], [13.234, '14'], [13.202, '18'], [11.46, '17'], [11.383, '01'], [11.052, '11'], [10.8, '19'], [10.25, '08'], [10.087, '05'], [9.411, '12'], [9.023, '06'], [8.127, '00'], [7.985, '23'], [7.853, '07'], [7.796, '03'], [7.17, '04'], [6.746, '22'], [5.578, '09']]\n"
     ]
    }
   ],
   "source": [
    "sorted_swap = sorted(swap_avg_by_hour, reverse=True)\n",
    "print(sorted_swap)"
   ]
  },
  {
   "cell_type": "code",
   "execution_count": 88,
   "metadata": {},
   "outputs": [
    {
     "name": "stdout",
     "output_type": "stream",
     "text": [
      "Top 5 Hours for Ask Posts Comments\n",
      "[38.595, '15']\n",
      "[23.81, '02']\n",
      "[21.525, '20']\n",
      "[16.796, '16']\n",
      "[16.009, '21']\n"
     ]
    }
   ],
   "source": [
    "print(\"Top 5 Hours for Ask Posts Comments\")\n",
    "\n",
    "for data in sorted_swap[:5]:\n",
    "\tprint(data)"
   ]
  },
  {
   "cell_type": "code",
   "execution_count": 95,
   "metadata": {},
   "outputs": [
    {
     "name": "stdout",
     "output_type": "stream",
     "text": [
      "15:00: 38.59 average comments per post\n",
      "02:00: 23.81 average comments per post\n",
      "20:00: 21.52 average comments per post\n",
      "16:00: 16.80 average comments per post\n",
      "21:00: 16.01 average comments per post\n"
     ]
    }
   ],
   "source": [
    "for data in sorted_swap[:5]:\n",
    "\thourly_data = dt.datetime.strptime(data[1], \"%H\")\n",
    "\ttime = hourly_data.strftime(\"%H:%M\")\n",
    "\tprint(f'{time}: {data[0]:.2f} average comments per post')"
   ]
  }
 ],
 "metadata": {
  "interpreter": {
   "hash": "9531ff7e72dc392c76eb38a381f0417e91b08d6f4396392e245b8566b516d0d1"
  },
  "kernelspec": {
   "display_name": "Python 3.10.0 64-bit ('am13Python': conda)",
   "language": "python",
   "name": "python3"
  },
  "language_info": {
   "codemirror_mode": {
    "name": "ipython",
    "version": 3
   },
   "file_extension": ".py",
   "mimetype": "text/x-python",
   "name": "python",
   "nbconvert_exporter": "python",
   "pygments_lexer": "ipython3",
   "version": "3.10.0"
  },
  "orig_nbformat": 4
 },
 "nbformat": 4,
 "nbformat_minor": 2
}
